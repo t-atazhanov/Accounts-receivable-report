{
 "cells": [
  {
   "cell_type": "code",
   "execution_count": null,
   "id": "ef1db094",
   "metadata": {
    "scrolled": true
   },
   "outputs": [],
   "source": [
    "import AR_FileHandler\n",
    "import AR_Rework"
   ]
  },
  {
   "cell_type": "code",
   "execution_count": null,
   "id": "8b84a709",
   "metadata": {},
   "outputs": [],
   "source": [
    "# handler = AR_FileHandler.AR_Handler('raw') # обработка raw_upload без прогрузки в БД"
   ]
  },
  {
   "cell_type": "code",
   "execution_count": null,
   "id": "734b51be",
   "metadata": {
    "scrolled": false
   },
   "outputs": [],
   "source": [
    "# handler.add_to_sql_data() # создав back-up, прогружает в БД свежеобработанные данные из raw_upload"
   ]
  },
  {
   "cell_type": "code",
   "execution_count": null,
   "id": "dfba53c8",
   "metadata": {},
   "outputs": [],
   "source": [
    "# AR_FileHandler.sql_functions.sql_table_drop() # Удаляет основную таблицу в БД"
   ]
  },
  {
   "cell_type": "code",
   "execution_count": null,
   "id": "c5fc2d49",
   "metadata": {},
   "outputs": [],
   "source": [
    "# AR_FileHandler.sql_functions.sql_table_create() # удаляет старую и создаёт новую AR таблицу"
   ]
  },
  {
   "cell_type": "code",
   "execution_count": null,
   "id": "06575ae5",
   "metadata": {},
   "outputs": [],
   "source": [
    "# AR_FileHandler.sql_functions.export_base_to_csv() # создать .csv-backup из БД "
   ]
  },
  {
   "cell_type": "code",
   "execution_count": null,
   "id": "50de93d9",
   "metadata": {
    "scrolled": true
   },
   "outputs": [],
   "source": [
    "# AR_FileHandler.sql_functions.restore_db_from_csv() # восстанавливаем БД из .csv"
   ]
  },
  {
   "cell_type": "code",
   "execution_count": null,
   "id": "6a4f02ad",
   "metadata": {},
   "outputs": [],
   "source": [
    "# handler.df_new[handler.df_new[\"Дата формирования отчета\"]!=\"2023-06-06\"]"
   ]
  },
  {
   "cell_type": "code",
   "execution_count": null,
   "id": "18b8c7c1",
   "metadata": {},
   "outputs": [],
   "source": [
    "# date = \"2023-06-06\" # УДАЛИТЬ ДАННЫЕ ЗА ДАТУ В БД - в формате \"гггг-мм-дд\" -- указать нужную дату\n",
    "# AR_FileHandler.sql_functions.delete_by_date(date)"
   ]
  },
  {
   "cell_type": "code",
   "execution_count": null,
   "id": "6b448f00",
   "metadata": {},
   "outputs": [],
   "source": [
    "# AR_Rework.Rework() # выгружает БД, заново проставляет все аналитики и заливает в БД обновленные данные"
   ]
  },
  {
   "cell_type": "markdown",
   "id": "6c0d70ac",
   "metadata": {},
   "source": [
    "Из двух сторонних модулей импортирует: обработчик ежедневных файлов (AR_FileHandler) и глубокий обработчик по данным из БД за всю историю (AR_Rework)\n",
    "\n",
    "AR_FileHandler содержит класс, позволяющий обрабатывать выгружаемую базу с дебиторской задолженностью на определенную дату.\n",
    "Таким образом, экземпляром класса будет эта база. У экземпляра определены методы, к которым можно обратиться из ячеек выше.\n",
    "Сам AR_FilaHandler, в свою очередь, импортирует константы и функции для манипуляций с базой PostgreSQL."
   ]
  }
 ],
 "metadata": {
  "kernelspec": {
   "display_name": "Python 3 (ipykernel)",
   "language": "python",
   "name": "python3"
  },
  "language_info": {
   "codemirror_mode": {
    "name": "ipython",
    "version": 3
   },
   "file_extension": ".py",
   "mimetype": "text/x-python",
   "name": "python",
   "nbconvert_exporter": "python",
   "pygments_lexer": "ipython3",
   "version": "3.9.7"
  }
 },
 "nbformat": 4,
 "nbformat_minor": 5
}
